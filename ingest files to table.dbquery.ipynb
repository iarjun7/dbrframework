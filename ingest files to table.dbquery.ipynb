{
 "cells": [
  {
   "cell_type": "code",
   "execution_count": 0,
   "metadata": {
    "application/vnd.databricks.v1+cell": {
     "cellMetadata": {},
     "inputWidgets": {},
     "nuid": "44ef378c-8554-4d71-8be9-1126ac361de3",
     "showTitle": false,
     "tableResultSettingsMap": {},
     "title": ""
    }
   },
   "outputs": [],
   "source": [
    "CREATE OR REPLACE TABLE IDENTIFIER(:catalog || '.' || :schema || '.' || :table)\n",
    "TBLPROPERTIES (\n",
    "    'delta.columnMapping.mode' = 'name'\n",
    ")\n",
    "AS SELECT *\n",
    "FROM read_files(\n",
    "    :file_path,\n",
    "    format => :file_format,\n",
    "    inferColumnTypes => true\n",
    ")"
   ]
  }
 ],
 "metadata": {
  "application/vnd.databricks.v1+notebook": {
   "computePreferences": null,
   "dashboards": [],
   "environmentMetadata": null,
   "inputWidgetPreferences": null,
   "language": "sql",
   "notebookMetadata": {
    "sqlQueryOptions": {
     "applyAutoLimit": true,
     "catalog": "jeffdemo",
     "schema": "etl"
    }
   },
   "notebookName": "ingest files to table.dbquery.ipynb",
   "widgets": {
    "catalog": {
     "currentValue": "",
     "nuid": "0f824266-bee7-49d3-8252-a5d309a1c5de",
     "typedWidgetInfo": {
      "autoCreated": false,
      "defaultValue": "",
      "label": "catalog",
      "name": "catalog",
      "options": {
       "widgetDisplayType": "Text",
       "validationRegex": null
      },
      "parameterDataType": "String"
     },
     "widgetInfo": {
      "widgetType": "text",
      "defaultValue": "",
      "label": "catalog",
      "name": "catalog",
      "options": {
       "widgetType": "text",
       "autoCreated": false,
       "validationRegex": null
      }
     }
    },
    "file_format": {
     "currentValue": "",
     "nuid": "d7b14e1e-1774-481b-979c-9c48d476ee32",
     "typedWidgetInfo": {
      "autoCreated": false,
      "defaultValue": "",
      "label": "file_format",
      "name": "file_format",
      "options": {
       "widgetDisplayType": "Text",
       "validationRegex": null
      },
      "parameterDataType": "String"
     },
     "widgetInfo": {
      "widgetType": "text",
      "defaultValue": "",
      "label": "file_format",
      "name": "file_format",
      "options": {
       "widgetType": "text",
       "autoCreated": false,
       "validationRegex": null
      }
     }
    },
    "file_path": {
     "currentValue": "",
     "nuid": "f3eeee31-7d67-45cc-a528-c477aa5d5d10",
     "typedWidgetInfo": {
      "autoCreated": false,
      "defaultValue": "",
      "label": "file_path",
      "name": "file_path",
      "options": {
       "widgetDisplayType": "Text",
       "validationRegex": null
      },
      "parameterDataType": "String"
     },
     "widgetInfo": {
      "widgetType": "text",
      "defaultValue": "",
      "label": "file_path",
      "name": "file_path",
      "options": {
       "widgetType": "text",
       "autoCreated": false,
       "validationRegex": null
      }
     }
    },
    "schema": {
     "currentValue": "",
     "nuid": "7b848f20-9702-4243-91d8-04f76929c7d4",
     "typedWidgetInfo": {
      "autoCreated": false,
      "defaultValue": "",
      "label": "schema",
      "name": "schema",
      "options": {
       "widgetDisplayType": "Text",
       "validationRegex": null
      },
      "parameterDataType": "String"
     },
     "widgetInfo": {
      "widgetType": "text",
      "defaultValue": "",
      "label": "schema",
      "name": "schema",
      "options": {
       "widgetType": "text",
       "autoCreated": false,
       "validationRegex": null
      }
     }
    },
    "table": {
     "currentValue": "",
     "nuid": "27f4be32-82f8-4577-9168-fde89037cc03",
     "typedWidgetInfo": {
      "autoCreated": false,
      "defaultValue": "",
      "label": "table",
      "name": "table",
      "options": {
       "widgetDisplayType": "Text",
       "validationRegex": null
      },
      "parameterDataType": "String"
     },
     "widgetInfo": {
      "widgetType": "text",
      "defaultValue": "",
      "label": "table",
      "name": "table",
      "options": {
       "widgetType": "text",
       "autoCreated": false,
       "validationRegex": null
      }
     }
    }
   }
  },
  "language_info": {
   "name": "sql"
  }
 },
 "nbformat": 4,
 "nbformat_minor": 0
}
